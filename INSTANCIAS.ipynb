{
 "cells": [
  {
   "cell_type": "code",
   "execution_count": 1,
   "id": "e4c7d0d5",
   "metadata": {},
   "outputs": [],
   "source": [
    "from yaml import load, FullLoader, dump"
   ]
  },
  {
   "cell_type": "code",
   "execution_count": 2,
   "id": "375eb7c8",
   "metadata": {},
   "outputs": [],
   "source": [
    "from troposphere import Ref, Template, ec2"
   ]
  },
  {
   "cell_type": "code",
   "execution_count": 3,
   "id": "8d599d76",
   "metadata": {},
   "outputs": [
    {
     "data": {
      "text/plain": [
       "<troposphere.ec2.Instance at 0x1438040baf0>"
      ]
     },
     "execution_count": 3,
     "metadata": {},
     "output_type": "execute_result"
    }
   ],
   "source": [
    "templa = Template()\n",
    "\n",
    "insta = ec2.Instance(\n",
    "    \"testandonovaImagem\",\n",
    "    ImageId=\"ami-01945499792201081\",\n",
    "    InstanceType=\"t3.micro\"\n",
    ")\n",
    "\n",
    "templa.add_resource(insta)"
   ]
  },
  {
   "cell_type": "code",
   "execution_count": 4,
   "id": "abe59d8a",
   "metadata": {},
   "outputs": [
    {
     "name": "stdout",
     "output_type": "stream",
     "text": [
      "('Resources:\\n'\n",
      " '  testandonovaImagem:\\n'\n",
      " '    Properties:\\n'\n",
      " '      ImageId: ami-01945499792201081\\n'\n",
      " '      InstanceType: t3.micro\\n'\n",
      " '    Type: AWS::EC2::Instance\\n')\n"
     ]
    }
   ],
   "source": [
    "from pprint import pprint\n",
    "pprint(templa.to_yaml())"
   ]
  },
  {
   "cell_type": "code",
   "execution_count": 9,
   "id": "cbedd0c5",
   "metadata": {},
   "outputs": [],
   "source": [
    "with open('Instancia.yml', 'w') as file:\n",
    "    dump(templa, file)"
   ]
  },
  {
   "cell_type": "code",
   "execution_count": 5,
   "id": "bcf3cf53",
   "metadata": {},
   "outputs": [
    {
     "data": {
      "text/plain": [
       "<troposphere.ec2.Instance at 0x1438040bcd0>"
      ]
     },
     "execution_count": 5,
     "metadata": {},
     "output_type": "execute_result"
    }
   ],
   "source": [
    "template3 = Template()\n",
    "\n",
    "instancia3 = ec2.Instance(\n",
    "    \"testandoumaterceira\",\n",
    "    ImageId=\"ami-06b5810be11add0e2\",\n",
    "    InstanceType=\"t2.micro\"\n",
    ")\n",
    "\n",
    "template3.add_resource(instancia3)"
   ]
  },
  {
   "cell_type": "code",
   "execution_count": 6,
   "id": "860fbb75",
   "metadata": {},
   "outputs": [
    {
     "name": "stdout",
     "output_type": "stream",
     "text": [
      "('Resources:\\n'\n",
      " '  testandoumaterceira:\\n'\n",
      " '    Properties:\\n'\n",
      " '      ImageId: ami-06b5810be11add0e2\\n'\n",
      " '      InstanceType: t2.micro\\n'\n",
      " '    Type: AWS::EC2::Instance\\n')\n"
     ]
    }
   ],
   "source": [
    "pprint(template3.to_yaml())"
   ]
  },
  {
   "cell_type": "code",
   "execution_count": 10,
   "id": "d4fda6f8",
   "metadata": {},
   "outputs": [],
   "source": [
    "with open('Segunda_Instancia.yml', 'w') as file:\n",
    "    dump(template3, file)"
   ]
  },
  {
   "cell_type": "code",
   "execution_count": 7,
   "id": "7f634967",
   "metadata": {},
   "outputs": [
    {
     "data": {
      "text/plain": [
       "<troposphere.ec2.Instance at 0x143803bfa60>"
      ]
     },
     "execution_count": 7,
     "metadata": {},
     "output_type": "execute_result"
    }
   ],
   "source": [
    "template = Template()\n",
    "\n",
    "instancia = ec2.Instance(\n",
    "    \"testando\",\n",
    "    ImageId=\"ami-00399ec92321828f5\",\n",
    "    InstanceType=\"t2.micro\"\n",
    ")\n",
    "\n",
    "template.add_resource(instancia)"
   ]
  },
  {
   "cell_type": "code",
   "execution_count": 8,
   "id": "92c15855",
   "metadata": {},
   "outputs": [
    {
     "name": "stdout",
     "output_type": "stream",
     "text": [
      "('Resources:\\n'\n",
      " '  testando:\\n'\n",
      " '    Properties:\\n'\n",
      " '      ImageId: ami-00399ec92321828f5\\n'\n",
      " '      InstanceType: t2.micro\\n'\n",
      " '    Type: AWS::EC2::Instance\\n')\n"
     ]
    }
   ],
   "source": [
    "pprint(template.to_yaml())"
   ]
  },
  {
   "cell_type": "code",
   "execution_count": 11,
   "id": "1fe62cf5",
   "metadata": {},
   "outputs": [],
   "source": [
    "with open('Terceira_Instancia.yml', 'w') as file:\n",
    "    dump(template, file)"
   ]
  },
  {
   "cell_type": "code",
   "execution_count": null,
   "id": "ba19f6d5",
   "metadata": {},
   "outputs": [],
   "source": []
  }
 ],
 "metadata": {
  "kernelspec": {
   "display_name": "Python 3 (ipykernel)",
   "language": "python",
   "name": "python3"
  },
  "language_info": {
   "codemirror_mode": {
    "name": "ipython",
    "version": 3
   },
   "file_extension": ".py",
   "mimetype": "text/x-python",
   "name": "python",
   "nbconvert_exporter": "python",
   "pygments_lexer": "ipython3",
   "version": "3.9.4"
  }
 },
 "nbformat": 4,
 "nbformat_minor": 5
}
